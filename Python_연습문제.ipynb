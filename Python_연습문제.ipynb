{
  "nbformat": 4,
  "nbformat_minor": 0,
  "metadata": {
    "colab": {
      "name": "Python 연습문제",
      "provenance": [],
      "collapsed_sections": [],
      "include_colab_link": true
    },
    "kernelspec": {
      "name": "python3",
      "display_name": "Python 3"
    }
  },
  "cells": [
    {
      "cell_type": "markdown",
      "metadata": {
        "id": "view-in-github",
        "colab_type": "text"
      },
      "source": [
        "<a href=\"https://colab.research.google.com/github/DoHyunChoi/dohyunchoi.github.io/blob/master/Python_%EC%97%B0%EC%8A%B5%EB%AC%B8%EC%A0%9C.ipynb\" target=\"_parent\"><img src=\"https://colab.research.google.com/assets/colab-badge.svg\" alt=\"Open In Colab\"/></a>"
      ]
    },
    {
      "cell_type": "code",
      "metadata": {
        "id": "p6-tLwpQRimM",
        "colab_type": "code",
        "outputId": "6103e5d3-975d-46b1-b61c-477f5d8b891a",
        "colab": {
          "base_uri": "https://localhost:8080/",
          "height": 35
        }
      },
      "source": [
        "# Q-1. 다음 코드의 실행결과는?\n",
        "\n",
        "a = [[1, 2, 3], [3, 4, 5], [5, 6, 7]]\n",
        "\n",
        "print(a[1][1:])\n"
      ],
      "execution_count": 0,
      "outputs": [
        {
          "output_type": "stream",
          "text": [
            "[4, 5]\n"
          ],
          "name": "stdout"
        }
      ]
    },
    {
      "cell_type": "code",
      "metadata": {
        "id": "ayqcF56vWxwh",
        "colab_type": "code",
        "colab": {}
      },
      "source": [
        "# Q-2. 다음 코드의 실행결과는?\n",
        "\n",
        "a = ['a', 'b', 'c', 'd', 'e', 'f']\n",
        "\n",
        "b = a[2:-1]\n",
        "print(b)"
      ],
      "execution_count": 0,
      "outputs": []
    },
    {
      "cell_type": "code",
      "metadata": {
        "id": "tRE_y84XW2jI",
        "colab_type": "code",
        "colab": {}
      },
      "source": [
        "# Q-3. 다음 코드의 실행결과는?\n",
        "\n",
        "a = ['a', 'b', 'c', 'd', 'e', 'f']\n",
        "\n",
        "del(a[2])\n",
        "print(a)\n"
      ],
      "execution_count": 0,
      "outputs": []
    },
    {
      "cell_type": "code",
      "metadata": {
        "id": "Di2RShPIkgiJ",
        "colab_type": "code",
        "outputId": "a1634989-1ec8-4cbd-e41c-cb1348728acc",
        "colab": {
          "base_uri": "https://localhost:8080/",
          "height": 53
        }
      },
      "source": [
        "# Q-4. 다음 코드의 실행결과는?\n",
        "\n",
        "a = [1, 2]\n",
        "b = a\n",
        "b[1] = 6\n",
        "\n",
        "print(a)\n",
        "print(b)"
      ],
      "execution_count": 0,
      "outputs": [
        {
          "output_type": "stream",
          "text": [
            "[1, 6]\n",
            "[1, 6]\n"
          ],
          "name": "stdout"
        }
      ]
    },
    {
      "cell_type": "code",
      "metadata": {
        "id": "9KYvTcNkkhIV",
        "colab_type": "code",
        "outputId": "01160a89-0c69-4536-8e37-334fd8f6d119",
        "colab": {
          "base_uri": "https://localhost:8080/",
          "height": 53
        }
      },
      "source": [
        "# Q-5. 다음 코드의 실행결과는?\n",
        "\n",
        "a = [1, 2]   # .......(9000)[1,2].....a:9000\n",
        "b = a[:]     # .......(9000)[1,2].....a:9000......(9005)[1,2]...b:9005\n",
        "a[1] = 6\n",
        "\n",
        "print(a)\n",
        "print(b)"
      ],
      "execution_count": 0,
      "outputs": [
        {
          "output_type": "stream",
          "text": [
            "[1, 6]\n",
            "[1, 2]\n"
          ],
          "name": "stdout"
        }
      ]
    }
  ]
}