{
  "nbformat": 4,
  "nbformat_minor": 0,
  "metadata": {
    "colab": {
      "name": "Python 연습문제",
      "provenance": [],
      "collapsed_sections": [],
      "include_colab_link": true
    },
    "kernelspec": {
      "name": "python3",
      "display_name": "Python 3"
    }
  },
  "cells": [
    {
      "cell_type": "markdown",
      "metadata": {
        "id": "view-in-github",
        "colab_type": "text"
      },
      "source": [
        "<a href=\"https://colab.research.google.com/github/DoHyunChoi/dohyunchoi.github.io/blob/master/Python_%EC%97%B0%EC%8A%B5%EB%AC%B8%EC%A0%9C.ipynb\" target=\"_parent\"><img src=\"https://colab.research.google.com/assets/colab-badge.svg\" alt=\"Open In Colab\"/></a>"
      ]
    },
    {
      "cell_type": "code",
      "metadata": {
        "id": "p6-tLwpQRimM",
        "colab_type": "code",
        "outputId": "6103e5d3-975d-46b1-b61c-477f5d8b891a",
        "colab": {
          "base_uri": "https://localhost:8080/",
          "height": 35
        }
      },
      "source": [
        "# Q-1. 다음 코드의 실행결과는?\n",
        "\n",
        "a = [[1, 2, 3], [3, 4, 5], [5, 6, 7]]\n",
        "\n",
        "print(a[1][1:])\n"
      ],
      "execution_count": 0,
      "outputs": [
        {
          "output_type": "stream",
          "text": [
            "[4, 5]\n"
          ],
          "name": "stdout"
        }
      ]
    },
    {
      "cell_type": "code",
      "metadata": {
        "id": "ayqcF56vWxwh",
        "colab_type": "code",
        "colab": {}
      },
      "source": [
        "# Q-2. 다음 코드의 실행결과는?\n",
        "\n",
        "a = ['a', 'b', 'c', 'd', 'e', 'f']\n",
        "\n",
        "b = a[2:-1]\n",
        "print(b)"
      ],
      "execution_count": 0,
      "outputs": []
    },
    {
      "cell_type": "code",
      "metadata": {
        "id": "tRE_y84XW2jI",
        "colab_type": "code",
        "colab": {}
      },
      "source": [
        "# Q-3. 다음 코드의 실행결과는?\n",
        "\n",
        "a = ['a', 'b', 'c', 'd', 'e', 'f']\n",
        "\n",
        "del(a[2])\n",
        "print(a)\n"
      ],
      "execution_count": 0,
      "outputs": []
    },
    {
      "cell_type": "code",
      "metadata": {
        "id": "Di2RShPIkgiJ",
        "colab_type": "code",
        "outputId": "a1634989-1ec8-4cbd-e41c-cb1348728acc",
        "colab": {
          "base_uri": "https://localhost:8080/",
          "height": 53
        }
      },
      "source": [
        "# Q-4. 다음 코드의 실행결과는?\n",
        "\n",
        "a = [1, 2]\n",
        "b = a\n",
        "b[1] = 6\n",
        "\n",
        "print(a)\n",
        "print(b)"
      ],
      "execution_count": 0,
      "outputs": [
        {
          "output_type": "stream",
          "text": [
            "[1, 6]\n",
            "[1, 6]\n"
          ],
          "name": "stdout"
        }
      ]
    },
    {
      "cell_type": "code",
      "metadata": {
        "id": "9KYvTcNkkhIV",
        "colab_type": "code",
        "outputId": "01160a89-0c69-4536-8e37-334fd8f6d119",
        "colab": {
          "base_uri": "https://localhost:8080/",
          "height": 53
        }
      },
      "source": [
        "# Q-5. 다음 코드의 실행결과는?\n",
        "\n",
        "a = [1, 2]   # .......(9000)[1,2].....a:9000\n",
        "b = a[:]     # .......(9000)[1,2].....a:9000......(9005)[1,2]...b:9005\n",
        "a[1] = 6\n",
        "\n",
        "print(a)\n",
        "print(b)"
      ],
      "execution_count": 0,
      "outputs": [
        {
          "output_type": "stream",
          "text": [
            "[1, 6]\n",
            "[1, 2]\n"
          ],
          "name": "stdout"
        }
      ]
    },
    {
      "cell_type": "code",
      "metadata": {
        "id": "u-4BbB4JqqBk",
        "colab_type": "code",
        "outputId": "f9eb2cb0-3906-4f9a-acc2-bc9108612852",
        "colab": {
          "base_uri": "https://localhost:8080/",
          "height": 35
        }
      },
      "source": [
        "# Q-6. 다음 코드의 실행결과는?\n",
        "\n",
        "*a,b,c = 1,2,3,4\n",
        "\n",
        "print(a)\n",
        "print(b)\n",
        "print(c)"
      ],
      "execution_count": 0,
      "outputs": [
        {
          "output_type": "stream",
          "text": [
            "[1, 2]\n"
          ],
          "name": "stdout"
        }
      ]
    },
    {
      "cell_type": "code",
      "metadata": {
        "id": "GM69EIlnq_nc",
        "colab_type": "code",
        "outputId": "d2714698-756d-411f-f9bb-db02b6ca4acd",
        "colab": {
          "base_uri": "https://localhost:8080/",
          "height": 53
        }
      },
      "source": [
        "# Q-7. 다음 코드의 실행결과는?\n",
        "\n",
        "*a, _, _ = 1,2,3,4\n",
        "\n",
        "print(a)\n",
        "print(_)"
      ],
      "execution_count": 0,
      "outputs": [
        {
          "output_type": "stream",
          "text": [
            "[1, 2]\n",
            "4\n"
          ],
          "name": "stdout"
        }
      ]
    },
    {
      "cell_type": "code",
      "metadata": {
        "id": "KqxBc6FgzjsF",
        "colab_type": "code",
        "outputId": "fc3986b2-3cb0-4195-a445-f0f0fbb27454",
        "colab": {
          "base_uri": "https://localhost:8080/",
          "height": 35
        }
      },
      "source": [
        " #Q-8. 다음 코드의 실행결과는?\n",
        "\n",
        "\n",
        "# food = {'짜장면' : 3500, '짬뽕': 4000, '볶음밥':4000, '짬자면':5000, '탕수육':9000} 를\n",
        "# food = {'짜장면' : 3850, '짬뽕': 4400, '볶음밥':4400, '짬자면':5500, '탕수육':9900} 로\n",
        "\n",
        "food = {'짜장면' : 3500, '짬뽕': 4000, '볶음밥':4000, '짬자면':5000, '탕수육':9000}\n",
        "\n",
        "# 여기에 코드를 넣으세요\n",
        "for key in food:\n",
        "  food[key] = int(food[key]* 1.1)\n",
        "\n",
        "print(food)"
      ],
      "execution_count": 0,
      "outputs": [
        {
          "output_type": "stream",
          "text": [
            "{'짜장면': 3850, '짬뽕': 4400, '볶음밥': 4400, '짬자면': 5500, '탕수육': 9900}\n"
          ],
          "name": "stdout"
        }
      ]
    },
    {
      "cell_type": "code",
      "metadata": {
        "id": "mAvQIhVG1_ir",
        "colab_type": "code",
        "outputId": "c57578eb-ef92-42e4-9e84-df04986ce8bb",
        "colab": {
          "base_uri": "https://localhost:8080/",
          "height": 107
        }
      },
      "source": [
        " #Q-9. 다음 코드의 실행결과는?\n",
        "\n",
        "food = {'짜장면' : 3500, '짬뽕': 4000, '볶음밥':4000, '짬자면':5000, '탕수육':9000}\n",
        "\n",
        "# 여기에 코드를 넣으세요\n",
        "pk1 = food.keys()\n",
        "pk2 = list(food.keys())\n",
        "pk3 = list(food.values())\n",
        "\n",
        "print(pk1)\n",
        "print(pk2)\n",
        "print(pk3)\n",
        "\n",
        "#합계\n",
        "pk4 = sum(food.values())\n",
        "print(\"합계 : \",pk4)\n",
        "\n",
        "#업데이트\n",
        "new_food = {'팔보채':15000, '고추잡채':15000}\n",
        "\n",
        "food.update(new_food)\n",
        "print(food)"
      ],
      "execution_count": 15,
      "outputs": [
        {
          "output_type": "stream",
          "text": [
            "dict_keys(['짜장면', '짬뽕', '볶음밥', '짬자면', '탕수육'])\n",
            "['짜장면', '짬뽕', '볶음밥', '짬자면', '탕수육']\n",
            "[3500, 4000, 4000, 5000, 9000]\n",
            "합계 :  25500\n",
            "{'짜장면': 3500, '짬뽕': 4000, '볶음밥': 4000, '짬자면': 5000, '탕수육': 9000, '팔보채': 15000, '고추잡채': 15000}\n"
          ],
          "name": "stdout"
        }
      ]
    },
    {
      "cell_type": "code",
      "metadata": {
        "id": "zNYNOyNV7tW4",
        "colab_type": "code",
        "colab": {
          "base_uri": "https://localhost:8080/",
          "height": 53
        },
        "outputId": "ee2b9cf1-1ced-4a0f-bcfb-4af5a5d284d4"
      },
      "source": [
        "#Q-10. 아래 두 개의 튜플을 하나의 딕셔너리로 변환하라.\n",
        "#f_keys 를 키(key)로, f_vals 를 값(value)으로 하는 result 이름의 딕셔너리로 저장한다.\n",
        "\n",
        "f_keys = {'짜장면', '짬뽕', '볶음밥', '탕수육'}\n",
        "f_vals = {3850, 4400, 4400, 5500, 9900}\n",
        "\n",
        "#여기에 코드를 넣으세요. f_d 이름으로 딕셔너리를 저장하세요.\n",
        "f_z = zip(f_keys, f_vals)\n",
        "print(f_z)\n",
        "f_d = dict(f_z)\n",
        "#f_z = dict(zip(f_keys, f_vals))\n",
        "\n",
        "print(f_d)"
      ],
      "execution_count": 16,
      "outputs": [
        {
          "output_type": "stream",
          "text": [
            "<zip object at 0x7f10941f5048>\n",
            "{'짜장면': 4400, '짬뽕': 3850, '탕수육': 5500, '볶음밥': 9900}\n"
          ],
          "name": "stdout"
        }
      ]
    },
    {
      "cell_type": "code",
      "metadata": {
        "id": "wmFILpJUxWbJ",
        "colab_type": "code",
        "colab": {
          "base_uri": "https://localhost:8080/",
          "height": 53
        },
        "outputId": "5d83b09d-7067-4373-fb0e-b2803d52e102"
      },
      "source": [
        "#Q-11. 현재 시간을 입력받아, 24:00까지 남은 시간을 분단위로 표시하세요.\n",
        "# -23:30 을 이볅했으면 30분을 표시 -22:00 을 입력했으면 120분을 표시\n",
        "# 시간은 hh:mm 형태로 입력받습니다. 00부터 23시까지 시간을 표시하고, 분은 0분부터 59분까지 표시\n",
        "#input() 함수를 사용\n",
        "#\"현재 시간을 입력하세요 :\" 라는 문구가 출력된 후 시간을 입력받습니다.\n",
        "# P.S 아직 에러처리는 신경쓰지 마세요 ex) 29:89\n",
        "# 24:00까지 ###분 남았습니다\" 을 출력하세요\n",
        "# 22:00에서 06:00 사이에는 \"지금은 수면시간입니다\"를 출력하도록 코드를 수정해보세요\n",
        "# 여기에 코드를 넣으세요.\n",
        "myTime = input(\"현재 시간을 입력하세요: \") #입력예 \"05:25\"\n",
        "\n",
        "userHour = int(myTime[0:2])\n",
        "userMin = int(myTime[3:])\n",
        "timeGap = (24-userHour)*60 - userMin\n",
        "\n",
        "if(timeGap <= 120) or (timeGap >=18*60) :\n",
        "  print(\"지금은 수면시간입니다.\")\n",
        "else :\n",
        "  print('24:00 까지 {}분 남았습니다.'.format(timeGap))\n"
      ],
      "execution_count": 10,
      "outputs": [
        {
          "output_type": "stream",
          "text": [
            "현재 시간을 입력하세요: 18:00\n",
            "24:00 까지 ()분 남았습니다.\n"
          ],
          "name": "stdout"
        }
      ]
    }
  ]
}